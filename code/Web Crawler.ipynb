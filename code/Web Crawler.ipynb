{
 "cells": [
  {
   "cell_type": "code",
   "execution_count": 1,
   "metadata": {},
   "outputs": [],
   "source": [
    "import urllib.request, urllib.parse, urllib.error\n",
    "from bs4 import BeautifulSoup\n",
    "import ssl\n",
    "import sqlite3\n",
    "from collections import deque"
   ]
  },
  {
   "cell_type": "code",
   "execution_count": 2,
   "metadata": {},
   "outputs": [],
   "source": [
    "# Ignore SSL certificate errors\n",
    "ctx = ssl.create_default_context()\n",
    "ctx.check_hostname = False\n",
    "ctx.verify_mode = ssl.CERT_NONE"
   ]
  },
  {
   "cell_type": "code",
   "execution_count": 3,
   "metadata": {},
   "outputs": [],
   "source": [
    "seed_page = \"https://en.wikipedia.org\"\n",
    "start_page = \"/wiki/Mathematics\""
   ]
  },
  {
   "cell_type": "code",
   "execution_count": 4,
   "metadata": {},
   "outputs": [],
   "source": [
    "def create_cursor():\n",
    "    conn = sqlite3.connect('../data/wiki_crawler.sqlite')\n",
    "    cur = conn.cursor()    \n",
    "    cur.execute('''\n",
    "                CREATE TABLE IF NOT EXISTS WikiPages\n",
    "                (id INTEGER PRIMARY KEY, title TEXT, URL TEXT UNIQUE, retrived BOOLEAN, citedCount INTEGER)\n",
    "                ''')\n",
    "    cur.execute(\"\"\"\n",
    "                CREATE TABLE IF NOT EXISTS Cites\n",
    "                (from_id INTEGER, to_id INTEGER, UNIQUE(from_id, to_id))\n",
    "                \"\"\")\n",
    "    return conn, cur"
   ]
  },
  {
   "cell_type": "code",
   "execution_count": 5,
   "metadata": {},
   "outputs": [],
   "source": [
    "conn, cur = create_cursor()"
   ]
  },
  {
   "cell_type": "code",
   "execution_count": 14,
   "metadata": {},
   "outputs": [],
   "source": [
    "def crawl_with_given_page(conn, cur, start_page = \"/wiki/Mathematics\", time = 100, seed_page = \"https://en.wikipedia.org\"):\n",
    "    cur.execute('SELECT retrived from WikiPages WHERE URL = ? LIMIT 1', (start_page, ))\n",
    "    try:\n",
    "        retrived = cur.fetchone()[0]\n",
    "        if retrived == 1:\n",
    "            print(\"The given start_page has been crawled already.\")\n",
    "            return\n",
    "        print(\"Start crawling\")\n",
    "    except:\n",
    "        print(\"Start crawling\")\n",
    "        \n",
    "    queue = deque([start_page])\n",
    "    count = 0\n",
    "    total_count = 0\n",
    "    while queue and count<time:\n",
    "        # print(count)\n",
    "        url = queue.popleft()\n",
    "\n",
    "        cur.execute('SELECT retrived from WikiPages WHERE URL = ? LIMIT 1', (url, ))\n",
    "        try:\n",
    "            retrived = cur.fetchone()[0]\n",
    "            if retrived == 1:\n",
    "                # print(\"The given website has been crawled already.\")\n",
    "                continue\n",
    "            cur.execute('UPDATE WikiPages SET retrived = ? WHERE URL = ?', (1, url))\n",
    "        except:\n",
    "            total_count += 1\n",
    "            cur.execute('INSERT INTO WikiPages (URL, retrived, citedCount) VALUES (?, 1, 0)', (url, ))\n",
    "\n",
    "        page_count = crawl_one_page(url, cur, adding = True, queue = queue)\n",
    "        \n",
    "        if page_count>-1:    \n",
    "            count += 1\n",
    "            total_count += page_count\n",
    "            if count%100==0:\n",
    "                print('count: ', count)\n",
    "                conn.commit()\n",
    "    \n",
    "    conn.commit()\n",
    "    print(\"Total new pages crawled: \", count)\n",
    "    print(\"Total new pages found: \", total_count)\n",
    "    return"
   ]
  },
  {
   "cell_type": "code",
   "execution_count": 15,
   "metadata": {},
   "outputs": [],
   "source": [
    "def crawl_fetch_30_candidates(queue, cur):\n",
    "    cur.execute('SELECT URL from WikiPages WHERE retrived = ? ORDER BY citedCount DESC LIMIT 30', (0, ))\n",
    "    for row in cur:\n",
    "        queue.append(row[0])    \n",
    "        \n",
    "def crawl_one_page(url, cur, adding = False, queue = None, seed_page = \"https://en.wikipedia.org\"):\n",
    "    cur.execute(\"SELECT id FROM WikiPages WHERE url = ?\", (url, ))\n",
    "    from_id = cur.fetchone()[0]\n",
    "    try:\n",
    "        html = urllib.request.urlopen(seed_page+url, context=ctx).read()\n",
    "    except:\n",
    "        # print(seed_page+url, \" can't be retrived.\")\n",
    "        return -1   \n",
    "    count = 0\n",
    "    soup = BeautifulSoup(html, 'html.parser')\n",
    "    title = soup.title.string\n",
    "    # print(title)\n",
    "    cur.execute('UPDATE WikiPages SET title = ? WHERE URL = ?', (title, url))\n",
    "    # Retrieve all of the anchor tags\n",
    "    tags = soup('a')\n",
    "    cited = set()\n",
    "    for tag in tags:\n",
    "        to_url = tag.get('href', None)\n",
    "        if not to_url or not to_url.startswith('/') or to_url.startswith('//') or to_url in cited:\n",
    "            continue\n",
    "        cited.add(to_url)\n",
    "        cur.execute('SELECT citedCount, id from WikiPages WHERE URL = ? LIMIT 1', (to_url, ))\n",
    "        if adding:\n",
    "            queue.append(to_url)\n",
    "        try:\n",
    "            num = cur.fetchone()[0]\n",
    "            cur.execute('UPDATE WikiPages SET citedCount = ? WHERE URL = ?', (num+1, to_url))\n",
    "        except:\n",
    "            count += 1\n",
    "            cur.execute('INSERT INTO WikiPages (URL, retrived, citedCount) VALUES (?, 0, 1)', (to_url, ))\n",
    "        cur.execute('SELECT id FROM WikiPages WHERE url = ?', (to_url, ))\n",
    "        to_id = cur.fetchone()[0]\n",
    "        if from_id!=to_id:\n",
    "            cur.execute('INSERT OR IGNORE INTO Cites (from_id, to_id) VALUES (?, ?)', (from_id, to_id))\n",
    "    return count\n",
    "\n",
    "def crawl_with_existing_page(conn, cur, time = 100, seed_page = \"https://en.wikipedia.org\"):\n",
    "    queue = deque()\n",
    "    crawl_fetch_30_candidates(queue, cur)\n",
    "    if len(queue)==0:\n",
    "        print('No avaiable link in the database to crawl')\n",
    "        return\n",
    "    else:\n",
    "        print('Start crawling')\n",
    "        \n",
    "    count = 0\n",
    "    total_count = 0\n",
    "    while count<time:\n",
    "        # print(count)\n",
    "        if len(queue)==0:\n",
    "            crawl_fetch_30_candidates(queue, cur)\n",
    "            if len(queue)==0:\n",
    "                print('No available links')\n",
    "                break\n",
    "                       \n",
    "        url = queue.popleft()\n",
    "        cur.execute('UPDATE WikiPages SET retrived = ? WHERE URL = ?', (1, url))\n",
    "        \n",
    "        page_count = crawl_one_page(url, cur)\n",
    " \n",
    "        if page_count>-1:    \n",
    "            count += 1\n",
    "            total_count += page_count\n",
    "            if count%100==0:\n",
    "                print('count: ', count)\n",
    "                conn.commit()\n",
    "    \n",
    "    conn.commit()\n",
    "    print(\"Total new pages crawled: \", count)\n",
    "    print(\"Total new pages found: \", total_count)\n",
    "    return"
   ]
  },
  {
   "cell_type": "code",
   "execution_count": 8,
   "metadata": {},
   "outputs": [
    {
     "name": "stdout",
     "output_type": "stream",
     "text": [
      "The given start_page has been crawled already.\n"
     ]
    }
   ],
   "source": [
    "crawl_with_given_page(conn, cur, time = 2000)"
   ]
  },
  {
   "cell_type": "code",
   "execution_count": 9,
   "metadata": {},
   "outputs": [
    {
     "name": "stdout",
     "output_type": "stream",
     "text": [
      "The given start_page has been crawled already.\n"
     ]
    }
   ],
   "source": [
    "crawl_with_given_page(conn, cur, start_page = \"/wiki/Mathematics\", time = 400)"
   ]
  },
  {
   "cell_type": "code",
   "execution_count": 19,
   "metadata": {},
   "outputs": [
    {
     "name": "stdout",
     "output_type": "stream",
     "text": [
      "Start crawling\n",
      "count:  100\n",
      "count:  200\n",
      "count:  300\n",
      "Total new pages crawled:  300\n",
      "Total new pages found:  23903\n"
     ]
    }
   ],
   "source": [
    "crawl_with_given_page(conn, cur, start_page = \"/wiki/Almost_periodic_function\", time = 300)"
   ]
  },
  {
   "cell_type": "code",
   "execution_count": 16,
   "metadata": {},
   "outputs": [
    {
     "name": "stdout",
     "output_type": "stream",
     "text": [
      "Start crawling\n",
      "count:  100\n",
      "count:  200\n",
      "count:  300\n",
      "count:  400\n",
      "count:  500\n",
      "Total new pages crawled:  500\n",
      "Total new pages found:  34970\n"
     ]
    }
   ],
   "source": [
    "crawl_with_existing_page(conn, cur, 500)"
   ]
  },
  {
   "cell_type": "code",
   "execution_count": 20,
   "metadata": {},
   "outputs": [
    {
     "data": {
      "text/plain": [
       "<sqlite3.Cursor at 0x109e63340>"
      ]
     },
     "execution_count": 20,
     "metadata": {},
     "output_type": "execute_result"
    }
   ],
   "source": [
    "cur.execute('SELECT title, url, citedCount FROM WikiPages ORDER BY citedCOunt DESC LIMIT 30')"
   ]
  },
  {
   "cell_type": "code",
   "execution_count": 21,
   "metadata": {
    "scrolled": true
   },
   "outputs": [
    {
     "name": "stdout",
     "output_type": "stream",
     "text": [
      "('User talk:2601:641:500:5CC0:9026:D008:E47C:BA3B - Wikipedia', '/wiki/Special:MyTalk', 9800)\n",
      "('User contributions for 2601:641:500:5CC0:9026:D008:E47C:BA3B - Wikipedia', '/wiki/Special:MyContributions', 9800)\n",
      "('Wikipedia, the free encyclopedia', '/wiki/Main_Page', 9800)\n",
      "('Portal:Contents - Wikipedia', '/wiki/Portal:Contents', 9800)\n",
      "('Portal:Featured content - Wikipedia', '/wiki/Portal:Featured_content', 9800)\n",
      "('Portal:Current events - Wikipedia', '/wiki/Portal:Current_events', 9800)\n",
      "('Speed limits in Romania - Wikipedia', '/wiki/Special:Random', 9800)\n",
      "('Help:Contents - Wikipedia', '/wiki/Help:Contents', 9800)\n",
      "('Wikipedia:About - Wikipedia', '/wiki/Wikipedia:About', 9800)\n",
      "('Wikipedia:Community portal - Wikipedia', '/wiki/Wikipedia:Community_portal', 9800)\n",
      "('Recent changes - Wikipedia', '/wiki/Special:RecentChanges', 9800)\n",
      "('Wikipedia:File Upload Wizard - Wikipedia', '/wiki/Wikipedia:File_Upload_Wizard', 9800)\n",
      "('Special pages - Wikipedia', '/wiki/Special:SpecialPages', 9800)\n",
      "('Wikipedia:General disclaimer - Wikipedia', '/wiki/Wikipedia:General_disclaimer', 9800)\n",
      "('Help:Category - Wikipedia', '/wiki/Help:Category', 9251)\n",
      "('International Standard Book Number - Wikipedia', '/wiki/International_Standard_Book_Number', 6093)\n",
      "('Help:Authority control - Wikipedia', '/wiki/Help:Authority_control', 3192)\n",
      "('Wikipedia:Citation needed - Wikipedia', '/wiki/Wikipedia:Citation_needed', 3070)\n",
      "('Category:Wikipedia articles with GND identifiers - Wikipedia', '/wiki/Category:Wikipedia_articles_with_GND_identifiers', 2946)\n",
      "('Category:All articles with unsourced statements - Wikipedia', '/wiki/Category:All_articles_with_unsourced_statements', 2937)\n",
      "('Integrated Authority File - Wikipedia', '/wiki/Integrated_Authority_File', 2903)\n",
      "('Digital object identifier - Wikipedia', '/wiki/Digital_object_identifier', 2804)\n",
      "('Category:Articles with short description - Wikipedia', '/wiki/Category:Articles_with_short_description', 2569)\n",
      "('Library of Congress Control Number - Wikipedia', '/wiki/Library_of_Congress_Control_Number', 2549)\n",
      "('Category:Wikipedia articles with LCCN identifiers - Wikipedia', '/wiki/Category:Wikipedia_articles_with_LCCN_identifiers', 2397)\n",
      "('Catholic Church - Wikipedia', '/wiki/Catholic_Church', 2318)\n",
      "('Wikipedia:Verifiability - Wikipedia', '/wiki/Wikipedia:Verifiability', 2186)\n",
      "('Wayback Machine - Wikipedia', '/wiki/Wayback_Machine', 2140)\n",
      "('Category:Webarchive template wayback links - Wikipedia', '/wiki/Category:Webarchive_template_wayback_links', 2106)\n",
      "('Category:Wikipedia articles with VIAF identifiers - Wikipedia', '/wiki/Category:Wikipedia_articles_with_VIAF_identifiers', 2105)\n"
     ]
    }
   ],
   "source": [
    "for row in cur:\n",
    "    print(row)"
   ]
  },
  {
   "cell_type": "code",
   "execution_count": 22,
   "metadata": {},
   "outputs": [],
   "source": [
    "# Get all cited urls from the given source\n",
    "def get_cited_urls_from_source(cur, from_url):\n",
    "    cur.execute(\"SELECT id FROM WikiPages WHERE URL = ? LIMIT 1\", (from_url,))\n",
    "    try:\n",
    "        source = cur.fetchone()[0]\n",
    "    except:\n",
    "        print(\"The given url is not found!\")\n",
    "        return []\n",
    "    res = []\n",
    "    cur.execute(\"\"\"\n",
    "                SELECT URL, id from WikiPages JOIN Cites ON WikiPages.id = Cites.to_id\n",
    "                WHERE Cites.from_id = ?\n",
    "                \"\"\", (source, ))\n",
    "    for row in cur:\n",
    "        res.append(row)\n",
    "    print(\"The given page cites %d different internal pages.\" % (len(res)))\n",
    "    return res\n",
    "\n",
    "# Get all urls that cite the given destination\n",
    "def get_citing_urls_to_destination(cur, to_url):\n",
    "    cur.execute(\"SELECT id FROM WikiPages WHERE URL = ? LIMIT 1\", (to_url, ))\n",
    "    try:\n",
    "        dest = cur.fetchone()[0]\n",
    "    except:\n",
    "        print(\"The given url is not found!\")\n",
    "        return []\n",
    "    res = []\n",
    "    cur.execute(\"\"\"\n",
    "                SELECT URL, id from WikiPages JOIN Cites ON WikiPages.id = Cites.from_id\n",
    "                WHERE Cites.to_id = ?\n",
    "                \"\"\", (dest, ))\n",
    "    for row in cur:\n",
    "        res.append(row)\n",
    "    print(\"There are %d pages found that cites the given link\" % (len(res)))\n",
    "    return res"
   ]
  },
  {
   "cell_type": "code",
   "execution_count": 23,
   "metadata": {},
   "outputs": [
    {
     "name": "stdout",
     "output_type": "stream",
     "text": [
      "The given page cites 69 different internal pages.\n",
      "('/wiki/Mathematical_analysis', 18)\n",
      "('/wiki/Continuous_function', 244)\n",
      "('/wiki/International_Standard_Book_Number', 401)\n",
      "('/wiki/Help:Category', 490)\n",
      "('/wiki/Special:MyTalk', 517)\n",
      "('/wiki/Special:MyContributions', 518)\n",
      "('/wiki/Main_Page', 524)\n",
      "('/wiki/Portal:Contents', 525)\n",
      "('/wiki/Portal:Featured_content', 526)\n",
      "('/wiki/Portal:Current_events', 527)\n"
     ]
    }
   ],
   "source": [
    "urls = get_cited_urls_from_source(cur, \"/wiki/Toeplitz_operator\")\n",
    "for i in range(10):\n",
    "    print(urls[i])"
   ]
  },
  {
   "cell_type": "code",
   "execution_count": 24,
   "metadata": {},
   "outputs": [
    {
     "name": "stdout",
     "output_type": "stream",
     "text": [
      "There are 755 pages found that cites the given link\n",
      "('/wiki/Mathematics_(disambiguation)', 3)\n",
      "('/wiki/Math_(disambiguation)', 4)\n",
      "('/wiki/File:Euclid.jpg', 5)\n",
      "('/wiki/Euclid', 6)\n",
      "('/wiki/Mathematical_structure', 13)\n",
      "('/wiki/Algebra', 14)\n",
      "('/wiki/Geometry', 16)\n",
      "('/wiki/Calculus', 17)\n",
      "('/wiki/Mathematical_analysis', 18)\n",
      "('/wiki/Definition', 19)\n"
     ]
    }
   ],
   "source": [
    "urls = get_citing_urls_to_destination(cur, \"/wiki/Mathematics\")\n",
    "for i in range(10):\n",
    "    print(urls[i])"
   ]
  },
  {
   "cell_type": "code",
   "execution_count": 25,
   "metadata": {},
   "outputs": [],
   "source": [
    "def get_most_cites(cur, num = 20):\n",
    "    cur.execute('SELECT URL, title, citedCount FROM WikiPages ORDER BY citedCount DESC LIMIT ?', (num, ))\n",
    "    res = []\n",
    "    try:\n",
    "        for row in cur:\n",
    "            res.append(row)\n",
    "    except:\n",
    "        print('No available links in WikiPages')\n",
    "    return res\n",
    "    "
   ]
  },
  {
   "cell_type": "code",
   "execution_count": 26,
   "metadata": {},
   "outputs": [
    {
     "name": "stdout",
     "output_type": "stream",
     "text": [
      "('/wiki/Special:MyTalk', 'User talk:2601:641:500:5CC0:9026:D008:E47C:BA3B - Wikipedia', 9800)\n",
      "('/wiki/Special:MyContributions', 'User contributions for 2601:641:500:5CC0:9026:D008:E47C:BA3B - Wikipedia', 9800)\n",
      "('/wiki/Main_Page', 'Wikipedia, the free encyclopedia', 9800)\n",
      "('/wiki/Portal:Contents', 'Portal:Contents - Wikipedia', 9800)\n",
      "('/wiki/Portal:Featured_content', 'Portal:Featured content - Wikipedia', 9800)\n",
      "('/wiki/Portal:Current_events', 'Portal:Current events - Wikipedia', 9800)\n",
      "('/wiki/Special:Random', 'Speed limits in Romania - Wikipedia', 9800)\n",
      "('/wiki/Help:Contents', 'Help:Contents - Wikipedia', 9800)\n",
      "('/wiki/Wikipedia:About', 'Wikipedia:About - Wikipedia', 9800)\n",
      "('/wiki/Wikipedia:Community_portal', 'Wikipedia:Community portal - Wikipedia', 9800)\n",
      "('/wiki/Special:RecentChanges', 'Recent changes - Wikipedia', 9800)\n",
      "('/wiki/Wikipedia:File_Upload_Wizard', 'Wikipedia:File Upload Wizard - Wikipedia', 9800)\n",
      "('/wiki/Special:SpecialPages', 'Special pages - Wikipedia', 9800)\n",
      "('/wiki/Wikipedia:General_disclaimer', 'Wikipedia:General disclaimer - Wikipedia', 9800)\n",
      "('/wiki/Help:Category', 'Help:Category - Wikipedia', 9251)\n",
      "('/wiki/International_Standard_Book_Number', 'International Standard Book Number - Wikipedia', 6093)\n",
      "('/wiki/Help:Authority_control', 'Help:Authority control - Wikipedia', 3192)\n",
      "('/wiki/Wikipedia:Citation_needed', 'Wikipedia:Citation needed - Wikipedia', 3070)\n",
      "('/wiki/Category:Wikipedia_articles_with_GND_identifiers', 'Category:Wikipedia articles with GND identifiers - Wikipedia', 2946)\n",
      "('/wiki/Category:All_articles_with_unsourced_statements', 'Category:All articles with unsourced statements - Wikipedia', 2937)\n",
      "('/wiki/Integrated_Authority_File', 'Integrated Authority File - Wikipedia', 2903)\n",
      "('/wiki/Digital_object_identifier', 'Digital object identifier - Wikipedia', 2804)\n",
      "('/wiki/Category:Articles_with_short_description', 'Category:Articles with short description - Wikipedia', 2569)\n",
      "('/wiki/Library_of_Congress_Control_Number', 'Library of Congress Control Number - Wikipedia', 2549)\n",
      "('/wiki/Category:Wikipedia_articles_with_LCCN_identifiers', 'Category:Wikipedia articles with LCCN identifiers - Wikipedia', 2397)\n",
      "('/wiki/Catholic_Church', 'Catholic Church - Wikipedia', 2318)\n",
      "('/wiki/Wikipedia:Verifiability', 'Wikipedia:Verifiability - Wikipedia', 2186)\n",
      "('/wiki/Wayback_Machine', 'Wayback Machine - Wikipedia', 2140)\n",
      "('/wiki/Category:Webarchive_template_wayback_links', 'Category:Webarchive template wayback links - Wikipedia', 2106)\n",
      "('/wiki/Category:Wikipedia_articles_with_VIAF_identifiers', 'Category:Wikipedia articles with VIAF identifiers - Wikipedia', 2105)\n"
     ]
    }
   ],
   "source": [
    "urls = get_most_cites(cur, 30)\n",
    "for row in urls:\n",
    "    print(row)"
   ]
  },
  {
   "cell_type": "code",
   "execution_count": 27,
   "metadata": {},
   "outputs": [],
   "source": [
    "def get_title_with_keyword(keyword, cur):\n",
    "    cur.execute(\"SELECT URL, title FROM WikiPages WHERE title LIKE ?\", ('%'+keyword+'%', ))\n",
    "    res = []\n",
    "    try:\n",
    "        for row in cur:\n",
    "            res.append(row)\n",
    "        print(\"There are %d titles with given keyword.\" % (len(res)))\n",
    "    except:\n",
    "        print(\"No such title\")\n",
    "    return res"
   ]
  },
  {
   "cell_type": "code",
   "execution_count": 28,
   "metadata": {},
   "outputs": [
    {
     "name": "stdout",
     "output_type": "stream",
     "text": [
      "There are 25 titles with given keyword.\n",
      "('/wiki/Operator_theory', 'Operator theory - Wikipedia')\n",
      "('/wiki/Operator_(mathematics)', 'Operator (mathematics) - Wikipedia')\n",
      "('/wiki/Self-adjoint_operator', 'Self-adjoint operator - Wikipedia')\n",
      "('/wiki/Compact_operator', 'Compact operator - Wikipedia')\n",
      "('/wiki/Multiplication_operator', 'Multiplication operator - Wikipedia')\n",
      "('/wiki/Toeplitz_operator', 'Toeplitz operator - Wikipedia')\n",
      "('/wiki/Dilation_(operator_theory)', 'Dilation (operator theory) - Wikipedia')\n",
      "('/w/index.php?title=Toeplitz_operator&action=edit&section=1', 'Editing Toeplitz operator (section) - Wikipedia')\n",
      "('/w/index.php?title=Toeplitz_operator&action=edit&section=2', 'Editing Toeplitz operator (section) - Wikipedia')\n",
      "('/w/index.php?title=Toeplitz_operator&action=edit&section=3', 'Editing Toeplitz operator (section) - Wikipedia')\n",
      "('/wiki/Category:Operator_theory', 'Category:Operator theory - Wikipedia')\n",
      "('/wiki/Talk:Toeplitz_operator', 'Talk:Toeplitz operator - Wikipedia')\n",
      "('/w/index.php?title=Toeplitz_operator&action=edit', 'Editing Toeplitz operator - Wikipedia')\n",
      "('/w/index.php?title=Toeplitz_operator&action=history', 'Toeplitz operator: Revision history - Wikipedia')\n",
      "('/wiki/Special:WhatLinksHere/Toeplitz_operator', 'Pages that link to \"Toeplitz operator\" - Wikipedia')\n",
      "('/w/index.php?title=Toeplitz_operator&oldid=876497579', 'Toeplitz operator - Wikipedia')\n",
      "('/w/index.php?title=Toeplitz_operator&action=info', 'Information for \"Toeplitz operator\" - Wikipedia')\n",
      "('/w/index.php?title=Toeplitz_operator&printable=yes', 'Toeplitz operator - Wikipedia')\n",
      "('/w/index.php?title=Hankel_operator&redirect=no', 'Hankel operator - Wikipedia')\n",
      "('/w/index.php?title=Talk:Hankel_operator&action=edit&redlink=1', 'Creating Talk:Hankel operator - Wikipedia')\n",
      "('/w/index.php?title=Hankel_operator&action=edit', 'Editing Hankel operator - Wikipedia')\n",
      "('/w/index.php?title=Hankel_operator&action=history', 'Hankel operator: Revision history - Wikipedia')\n",
      "('/wiki/Special:WhatLinksHere/Hankel_operator', 'Pages that link to \"Hankel operator\" - Wikipedia')\n",
      "('/w/index.php?title=Hankel_operator&oldid=116494652', 'Hankel operator - Wikipedia')\n",
      "('/w/index.php?title=Hankel_operator&action=info', 'Information for \"Hankel operator\" - Wikipedia')\n"
     ]
    }
   ],
   "source": [
    "urls = get_title_with_keyword(\"Operator\", cur)\n",
    "for row in urls:\n",
    "    print(row)"
   ]
  },
  {
   "cell_type": "code",
   "execution_count": 29,
   "metadata": {},
   "outputs": [],
   "source": [
    "def retrived_page_ratio(cur):\n",
    "    cur.execute('SELECT COUNT(1), retrived FROM WikiPages GROUP BY retrived')\n",
    "    uncrawled, crawled = cur\n",
    "    print(\"Total number of pages in the dataset: \", uncrawled[0]+crawled[0])\n",
    "    # print(\"Total number of pages crawled: \", crawled[0])\n",
    "    print(\"Crawled ratio: %5.3f\" % (crawled[0]/(uncrawled[0]+crawled[0])))"
   ]
  },
  {
   "cell_type": "code",
   "execution_count": 30,
   "metadata": {},
   "outputs": [
    {
     "name": "stdout",
     "output_type": "stream",
     "text": [
      "Total number of pages in the dataset:  1058687\n",
      "Crawled ratio: 0.009\n"
     ]
    }
   ],
   "source": [
    "retrived_page_ratio(cur)"
   ]
  },
  {
   "cell_type": "code",
   "execution_count": null,
   "metadata": {},
   "outputs": [],
   "source": []
  }
 ],
 "metadata": {
  "kernelspec": {
   "display_name": "Python 3",
   "language": "python",
   "name": "python3"
  },
  "language_info": {
   "codemirror_mode": {
    "name": "ipython",
    "version": 3
   },
   "file_extension": ".py",
   "mimetype": "text/x-python",
   "name": "python",
   "nbconvert_exporter": "python",
   "pygments_lexer": "ipython3",
   "version": "3.7.3"
  }
 },
 "nbformat": 4,
 "nbformat_minor": 2
}
